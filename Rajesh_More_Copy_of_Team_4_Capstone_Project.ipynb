{
  "nbformat": 4,
  "nbformat_minor": 0,
  "metadata": {
    "kernelspec": {
      "display_name": "Python 3",
      "language": "python",
      "name": "python3"
    },
    "language_info": {
      "codemirror_mode": {
        "name": "ipython",
        "version": 3
      },
      "file_extension": ".py",
      "mimetype": "text/x-python",
      "name": "python",
      "nbconvert_exporter": "python",
      "pygments_lexer": "ipython3",
      "version": "3.6.6"
    },
    "colab": {
      "name": "Rajesh More-Copy of Team 4 - Capstone Project.ipynb",
      "provenance": [],
      "collapsed_sections": [],
      "include_colab_link": true
    }
  },
  "cells": [
    {
      "cell_type": "markdown",
      "metadata": {
        "id": "view-in-github",
        "colab_type": "text"
      },
      "source": [
        "<a href=\"https://colab.research.google.com/github/rajeshmore1/Capstone-Project-1/blob/main/Rajesh_More_Copy_of_Team_4_Capstone_Project.ipynb\" target=\"_parent\"><img src=\"https://colab.research.google.com/assets/colab-badge.svg\" alt=\"Open In Colab\"/></a>"
      ]
    },
    {
      "cell_type": "markdown",
      "metadata": {
        "id": "7wib8ARxycO8"
      },
      "source": [
        ""
      ]
    },
    {
      "cell_type": "markdown",
      "metadata": {
        "id": "Y06xIdG26kRF"
      },
      "source": [
        "## <b> Since 2008, guests and hosts have used Airbnb to expand on traveling possibilities and present a more unique, personalized way of experiencing the world. Today, Airbnb became one of a kind service that is used and recognized by the whole world. Data analysis on millions of listings provided through Airbnb is a crucial factor for the company. These millions of listings generate a lot of data - data that can be analyzed and used for security, business decisions, understanding of customers' and providers' (hosts) behavior and performance on the platform, guiding marketing initiatives, implementation of innovative additional services and much more. </b>\n",
        "\n",
        "## <b>This dataset has around 49,000 observations in it with 16 columns and it is a mix between categorical and numeric values. </b>\n",
        "\n",
        "## <b> Explore and analyze the data to discover key understandings (not limited to these) such as : \n",
        "* What can we learn about different hosts and areas?\n",
        "* What can we learn from predictions? (ex: locations, prices, reviews, etc)\n",
        "* Which hosts are the busiest and why?\n",
        "* Is there any noticeable difference of traffic among different areas and what could be the reason for it? </b>"
      ]
    },
    {
      "cell_type": "markdown",
      "metadata": {
        "id": "LrH6vxAOKH9B"
      },
      "source": [
        "# Examining The Data\n",
        "First thing we have to do is understand the context of the problem and 'examination of data'.\n",
        "\n",
        "*   **Data is New Oil:**\n",
        "Airbnb, Inc. is an American vacation rental online marketplace company based in San Francisco, California, United States. Airbnb offers arrangement for lodging, primarily homestays, or tourism experiences. The company does not own any of the real estate listings, nor does it host events; it acts as a broker, receiving commissions from each booking.\n",
        "The company is having huge data of guests and hosts(Guesthouse/Hotel owners) of New York City.This data that can be analyzed and used for security, business decisions, understanding of customers' and providers' (hosts) behavior and performance on the platform, guiding marketing initiatives, implementation of innovative additional services and much more.\n",
        "Before we deep dive into analysis of data we have to look into how data is arranged.So lets check the oil.\n",
        "\n",
        "\n",
        "*   **Basic Examination:**\n",
        "we are having dataframe which contains 48895 rows and 16 coulmns.This gives us some insights about how much deeper the sea is.Datatypes of Various columns are integer,float and objects.There are some outliers and null values also, in various rows.It increases our work as we have to drop these values.\n",
        "\n",
        "\n",
        "\n",
        "\n",
        "\n",
        "\n",
        "\n",
        "\n",
        "\n"
      ]
    },
    {
      "cell_type": "code",
      "metadata": {
        "id": "dByMsuzT8Tnw"
      },
      "source": [
        "#Import package\n",
        "import numpy as np # linear algebra\n",
        "import pandas as pd # data processing, CSV file I/O (e.g. pd.read_csv)\n",
        "from ast import literal_eval"
      ],
      "execution_count": 56,
      "outputs": []
    },
    {
      "cell_type": "code",
      "metadata": {
        "id": "g85o5HOCvMyL"
      },
      "source": [
        "## This will gather necessary libraries for plotting.\n",
        "import matplotlib.pyplot as plt \n",
        "%matplotlib inline \n",
        "import seaborn as sns \n",
        "from matplotlib import style \n",
        "import datetime as dt\n",
        "style.use(\"ggplot\")"
      ],
      "execution_count": 57,
      "outputs": []
    },
    {
      "cell_type": "markdown",
      "metadata": {
        "id": "WLYhf2clqa6l"
      },
      "source": [
        ""
      ]
    },
    {
      "cell_type": "code",
      "metadata": {
        "id": "UVA8a0CTkScD",
        "outputId": "2dfb2f1c-f58d-46b5-c131-76a75fe0f112",
        "colab": {
          "base_uri": "https://localhost:8080/"
        }
      },
      "source": [
        "#Import CSV file from google drive\n",
        "from google.colab import drive\n",
        "drive.mount('/content/drive')"
      ],
      "execution_count": 58,
      "outputs": [
        {
          "output_type": "stream",
          "text": [
            "Drive already mounted at /content/drive; to attempt to forcibly remount, call drive.mount(\"/content/drive\", force_remount=True).\n"
          ],
          "name": "stdout"
        }
      ]
    },
    {
      "cell_type": "code",
      "metadata": {
        "id": "m9pBTcMikVGZ"
      },
      "source": [
        "# It is time to grab the data\n",
        "working_directory = '/content/drive/My Drive/AlmaBetter/Cohort Aravali/Module 2/Week 1/Day 1/Copy of AB_NYC_2019.csv'\n",
        "df = pd.read_csv(working_directory)"
      ],
      "execution_count": 59,
      "outputs": []
    },
    {
      "cell_type": "code",
      "metadata": {
        "id": "1eBA7MpMHy-w",
        "outputId": "8f43e38e-f2a5-44ea-f796-818b3f89f8d5",
        "colab": {
          "base_uri": "https://localhost:8080/"
        }
      },
      "source": [
        "## lets look at their shapes respectively.\n",
        "print(\" Shape of the resources dataframe is: \" , df.shape)"
      ],
      "execution_count": 60,
      "outputs": [
        {
          "output_type": "stream",
          "text": [
            " Shape of the resources dataframe is:  (48895, 16)\n"
          ],
          "name": "stdout"
        }
      ]
    },
    {
      "cell_type": "code",
      "metadata": {
        "id": "UAD7fJCalLWG",
        "outputId": "cd0f7806-0e40-4829-c354-814ce9be2bc2",
        "colab": {
          "base_uri": "https://localhost:8080/",
          "height": 1000
        }
      },
      "source": [
        "# Lets look at he first 15 rows for each dataframe to explore column names, indexes better.\n",
        "df.head(15)"
      ],
      "execution_count": 61,
      "outputs": [
        {
          "output_type": "execute_result",
          "data": {
            "text/html": [
              "<div>\n",
              "<style scoped>\n",
              "    .dataframe tbody tr th:only-of-type {\n",
              "        vertical-align: middle;\n",
              "    }\n",
              "\n",
              "    .dataframe tbody tr th {\n",
              "        vertical-align: top;\n",
              "    }\n",
              "\n",
              "    .dataframe thead th {\n",
              "        text-align: right;\n",
              "    }\n",
              "</style>\n",
              "<table border=\"1\" class=\"dataframe\">\n",
              "  <thead>\n",
              "    <tr style=\"text-align: right;\">\n",
              "      <th></th>\n",
              "      <th>id</th>\n",
              "      <th>name</th>\n",
              "      <th>host_id</th>\n",
              "      <th>host_name</th>\n",
              "      <th>neighbourhood_group</th>\n",
              "      <th>neighbourhood</th>\n",
              "      <th>latitude</th>\n",
              "      <th>longitude</th>\n",
              "      <th>room_type</th>\n",
              "      <th>price</th>\n",
              "      <th>minimum_nights</th>\n",
              "      <th>number_of_reviews</th>\n",
              "      <th>last_review</th>\n",
              "      <th>reviews_per_month</th>\n",
              "      <th>calculated_host_listings_count</th>\n",
              "      <th>availability_365</th>\n",
              "    </tr>\n",
              "  </thead>\n",
              "  <tbody>\n",
              "    <tr>\n",
              "      <th>0</th>\n",
              "      <td>2539</td>\n",
              "      <td>Clean &amp; quiet apt home by the park</td>\n",
              "      <td>2787</td>\n",
              "      <td>John</td>\n",
              "      <td>Brooklyn</td>\n",
              "      <td>Kensington</td>\n",
              "      <td>40.64749</td>\n",
              "      <td>-73.97237</td>\n",
              "      <td>Private room</td>\n",
              "      <td>149</td>\n",
              "      <td>1</td>\n",
              "      <td>9</td>\n",
              "      <td>2018-10-19</td>\n",
              "      <td>0.21</td>\n",
              "      <td>6</td>\n",
              "      <td>365</td>\n",
              "    </tr>\n",
              "    <tr>\n",
              "      <th>1</th>\n",
              "      <td>2595</td>\n",
              "      <td>Skylit Midtown Castle</td>\n",
              "      <td>2845</td>\n",
              "      <td>Jennifer</td>\n",
              "      <td>Manhattan</td>\n",
              "      <td>Midtown</td>\n",
              "      <td>40.75362</td>\n",
              "      <td>-73.98377</td>\n",
              "      <td>Entire home/apt</td>\n",
              "      <td>225</td>\n",
              "      <td>1</td>\n",
              "      <td>45</td>\n",
              "      <td>2019-05-21</td>\n",
              "      <td>0.38</td>\n",
              "      <td>2</td>\n",
              "      <td>355</td>\n",
              "    </tr>\n",
              "    <tr>\n",
              "      <th>2</th>\n",
              "      <td>3647</td>\n",
              "      <td>THE VILLAGE OF HARLEM....NEW YORK !</td>\n",
              "      <td>4632</td>\n",
              "      <td>Elisabeth</td>\n",
              "      <td>Manhattan</td>\n",
              "      <td>Harlem</td>\n",
              "      <td>40.80902</td>\n",
              "      <td>-73.94190</td>\n",
              "      <td>Private room</td>\n",
              "      <td>150</td>\n",
              "      <td>3</td>\n",
              "      <td>0</td>\n",
              "      <td>NaN</td>\n",
              "      <td>NaN</td>\n",
              "      <td>1</td>\n",
              "      <td>365</td>\n",
              "    </tr>\n",
              "    <tr>\n",
              "      <th>3</th>\n",
              "      <td>3831</td>\n",
              "      <td>Cozy Entire Floor of Brownstone</td>\n",
              "      <td>4869</td>\n",
              "      <td>LisaRoxanne</td>\n",
              "      <td>Brooklyn</td>\n",
              "      <td>Clinton Hill</td>\n",
              "      <td>40.68514</td>\n",
              "      <td>-73.95976</td>\n",
              "      <td>Entire home/apt</td>\n",
              "      <td>89</td>\n",
              "      <td>1</td>\n",
              "      <td>270</td>\n",
              "      <td>2019-07-05</td>\n",
              "      <td>4.64</td>\n",
              "      <td>1</td>\n",
              "      <td>194</td>\n",
              "    </tr>\n",
              "    <tr>\n",
              "      <th>4</th>\n",
              "      <td>5022</td>\n",
              "      <td>Entire Apt: Spacious Studio/Loft by central park</td>\n",
              "      <td>7192</td>\n",
              "      <td>Laura</td>\n",
              "      <td>Manhattan</td>\n",
              "      <td>East Harlem</td>\n",
              "      <td>40.79851</td>\n",
              "      <td>-73.94399</td>\n",
              "      <td>Entire home/apt</td>\n",
              "      <td>80</td>\n",
              "      <td>10</td>\n",
              "      <td>9</td>\n",
              "      <td>2018-11-19</td>\n",
              "      <td>0.10</td>\n",
              "      <td>1</td>\n",
              "      <td>0</td>\n",
              "    </tr>\n",
              "    <tr>\n",
              "      <th>5</th>\n",
              "      <td>5099</td>\n",
              "      <td>Large Cozy 1 BR Apartment In Midtown East</td>\n",
              "      <td>7322</td>\n",
              "      <td>Chris</td>\n",
              "      <td>Manhattan</td>\n",
              "      <td>Murray Hill</td>\n",
              "      <td>40.74767</td>\n",
              "      <td>-73.97500</td>\n",
              "      <td>Entire home/apt</td>\n",
              "      <td>200</td>\n",
              "      <td>3</td>\n",
              "      <td>74</td>\n",
              "      <td>2019-06-22</td>\n",
              "      <td>0.59</td>\n",
              "      <td>1</td>\n",
              "      <td>129</td>\n",
              "    </tr>\n",
              "    <tr>\n",
              "      <th>6</th>\n",
              "      <td>5121</td>\n",
              "      <td>BlissArtsSpace!</td>\n",
              "      <td>7356</td>\n",
              "      <td>Garon</td>\n",
              "      <td>Brooklyn</td>\n",
              "      <td>Bedford-Stuyvesant</td>\n",
              "      <td>40.68688</td>\n",
              "      <td>-73.95596</td>\n",
              "      <td>Private room</td>\n",
              "      <td>60</td>\n",
              "      <td>45</td>\n",
              "      <td>49</td>\n",
              "      <td>2017-10-05</td>\n",
              "      <td>0.40</td>\n",
              "      <td>1</td>\n",
              "      <td>0</td>\n",
              "    </tr>\n",
              "    <tr>\n",
              "      <th>7</th>\n",
              "      <td>5178</td>\n",
              "      <td>Large Furnished Room Near B'way</td>\n",
              "      <td>8967</td>\n",
              "      <td>Shunichi</td>\n",
              "      <td>Manhattan</td>\n",
              "      <td>Hell's Kitchen</td>\n",
              "      <td>40.76489</td>\n",
              "      <td>-73.98493</td>\n",
              "      <td>Private room</td>\n",
              "      <td>79</td>\n",
              "      <td>2</td>\n",
              "      <td>430</td>\n",
              "      <td>2019-06-24</td>\n",
              "      <td>3.47</td>\n",
              "      <td>1</td>\n",
              "      <td>220</td>\n",
              "    </tr>\n",
              "    <tr>\n",
              "      <th>8</th>\n",
              "      <td>5203</td>\n",
              "      <td>Cozy Clean Guest Room - Family Apt</td>\n",
              "      <td>7490</td>\n",
              "      <td>MaryEllen</td>\n",
              "      <td>Manhattan</td>\n",
              "      <td>Upper West Side</td>\n",
              "      <td>40.80178</td>\n",
              "      <td>-73.96723</td>\n",
              "      <td>Private room</td>\n",
              "      <td>79</td>\n",
              "      <td>2</td>\n",
              "      <td>118</td>\n",
              "      <td>2017-07-21</td>\n",
              "      <td>0.99</td>\n",
              "      <td>1</td>\n",
              "      <td>0</td>\n",
              "    </tr>\n",
              "    <tr>\n",
              "      <th>9</th>\n",
              "      <td>5238</td>\n",
              "      <td>Cute &amp; Cozy Lower East Side 1 bdrm</td>\n",
              "      <td>7549</td>\n",
              "      <td>Ben</td>\n",
              "      <td>Manhattan</td>\n",
              "      <td>Chinatown</td>\n",
              "      <td>40.71344</td>\n",
              "      <td>-73.99037</td>\n",
              "      <td>Entire home/apt</td>\n",
              "      <td>150</td>\n",
              "      <td>1</td>\n",
              "      <td>160</td>\n",
              "      <td>2019-06-09</td>\n",
              "      <td>1.33</td>\n",
              "      <td>4</td>\n",
              "      <td>188</td>\n",
              "    </tr>\n",
              "    <tr>\n",
              "      <th>10</th>\n",
              "      <td>5295</td>\n",
              "      <td>Beautiful 1br on Upper West Side</td>\n",
              "      <td>7702</td>\n",
              "      <td>Lena</td>\n",
              "      <td>Manhattan</td>\n",
              "      <td>Upper West Side</td>\n",
              "      <td>40.80316</td>\n",
              "      <td>-73.96545</td>\n",
              "      <td>Entire home/apt</td>\n",
              "      <td>135</td>\n",
              "      <td>5</td>\n",
              "      <td>53</td>\n",
              "      <td>2019-06-22</td>\n",
              "      <td>0.43</td>\n",
              "      <td>1</td>\n",
              "      <td>6</td>\n",
              "    </tr>\n",
              "    <tr>\n",
              "      <th>11</th>\n",
              "      <td>5441</td>\n",
              "      <td>Central Manhattan/near Broadway</td>\n",
              "      <td>7989</td>\n",
              "      <td>Kate</td>\n",
              "      <td>Manhattan</td>\n",
              "      <td>Hell's Kitchen</td>\n",
              "      <td>40.76076</td>\n",
              "      <td>-73.98867</td>\n",
              "      <td>Private room</td>\n",
              "      <td>85</td>\n",
              "      <td>2</td>\n",
              "      <td>188</td>\n",
              "      <td>2019-06-23</td>\n",
              "      <td>1.50</td>\n",
              "      <td>1</td>\n",
              "      <td>39</td>\n",
              "    </tr>\n",
              "    <tr>\n",
              "      <th>12</th>\n",
              "      <td>5803</td>\n",
              "      <td>Lovely Room 1, Garden, Best Area, Legal rental</td>\n",
              "      <td>9744</td>\n",
              "      <td>Laurie</td>\n",
              "      <td>Brooklyn</td>\n",
              "      <td>South Slope</td>\n",
              "      <td>40.66829</td>\n",
              "      <td>-73.98779</td>\n",
              "      <td>Private room</td>\n",
              "      <td>89</td>\n",
              "      <td>4</td>\n",
              "      <td>167</td>\n",
              "      <td>2019-06-24</td>\n",
              "      <td>1.34</td>\n",
              "      <td>3</td>\n",
              "      <td>314</td>\n",
              "    </tr>\n",
              "    <tr>\n",
              "      <th>13</th>\n",
              "      <td>6021</td>\n",
              "      <td>Wonderful Guest Bedroom in Manhattan for SINGLES</td>\n",
              "      <td>11528</td>\n",
              "      <td>Claudio</td>\n",
              "      <td>Manhattan</td>\n",
              "      <td>Upper West Side</td>\n",
              "      <td>40.79826</td>\n",
              "      <td>-73.96113</td>\n",
              "      <td>Private room</td>\n",
              "      <td>85</td>\n",
              "      <td>2</td>\n",
              "      <td>113</td>\n",
              "      <td>2019-07-05</td>\n",
              "      <td>0.91</td>\n",
              "      <td>1</td>\n",
              "      <td>333</td>\n",
              "    </tr>\n",
              "    <tr>\n",
              "      <th>14</th>\n",
              "      <td>6090</td>\n",
              "      <td>West Village Nest - Superhost</td>\n",
              "      <td>11975</td>\n",
              "      <td>Alina</td>\n",
              "      <td>Manhattan</td>\n",
              "      <td>West Village</td>\n",
              "      <td>40.73530</td>\n",
              "      <td>-74.00525</td>\n",
              "      <td>Entire home/apt</td>\n",
              "      <td>120</td>\n",
              "      <td>90</td>\n",
              "      <td>27</td>\n",
              "      <td>2018-10-31</td>\n",
              "      <td>0.22</td>\n",
              "      <td>1</td>\n",
              "      <td>0</td>\n",
              "    </tr>\n",
              "  </tbody>\n",
              "</table>\n",
              "</div>"
            ],
            "text/plain": [
              "      id  ... availability_365\n",
              "0   2539  ...              365\n",
              "1   2595  ...              355\n",
              "2   3647  ...              365\n",
              "3   3831  ...              194\n",
              "4   5022  ...                0\n",
              "5   5099  ...              129\n",
              "6   5121  ...                0\n",
              "7   5178  ...              220\n",
              "8   5203  ...                0\n",
              "9   5238  ...              188\n",
              "10  5295  ...                6\n",
              "11  5441  ...               39\n",
              "12  5803  ...              314\n",
              "13  6021  ...              333\n",
              "14  6090  ...                0\n",
              "\n",
              "[15 rows x 16 columns]"
            ]
          },
          "metadata": {
            "tags": []
          },
          "execution_count": 61
        }
      ]
    },
    {
      "cell_type": "code",
      "metadata": {
        "id": "KhVu_g04lNyr",
        "outputId": "7a2a03bc-8a9a-4ce5-dac2-75dbeedb9966",
        "colab": {
          "base_uri": "https://localhost:8080/"
        }
      },
      "source": [
        "#To get the column names of our dataframes :\n",
        "\n",
        "df.columns"
      ],
      "execution_count": null,
      "outputs": [
        {
          "output_type": "execute_result",
          "data": {
            "text/plain": [
              "Index(['id', 'name', 'host_id', 'host_name', 'neighbourhood_group',\n",
              "       'neighbourhood', 'latitude', 'longitude', 'room_type', 'price',\n",
              "       'minimum_nights', 'number_of_reviews', 'last_review',\n",
              "       'reviews_per_month', 'calculated_host_listings_count',\n",
              "       'availability_365'],\n",
              "      dtype='object')"
            ]
          },
          "metadata": {
            "tags": []
          },
          "execution_count": 8
        }
      ]
    },
    {
      "cell_type": "code",
      "metadata": {
        "id": "kET37q9KlaN5",
        "outputId": "63dde6df-f303-4dc6-cd08-b34d3311ce6c",
        "colab": {
          "base_uri": "https://localhost:8080/"
        }
      },
      "source": [
        "#To get the data type of each column of a dataframe:\n",
        "\n",
        "df.dtypes"
      ],
      "execution_count": null,
      "outputs": [
        {
          "output_type": "execute_result",
          "data": {
            "text/plain": [
              "id                                  int64\n",
              "name                               object\n",
              "host_id                             int64\n",
              "host_name                          object\n",
              "neighbourhood_group                object\n",
              "neighbourhood                      object\n",
              "latitude                          float64\n",
              "longitude                         float64\n",
              "room_type                          object\n",
              "price                               int64\n",
              "minimum_nights                      int64\n",
              "number_of_reviews                   int64\n",
              "last_review                        object\n",
              "reviews_per_month                 float64\n",
              "calculated_host_listings_count      int64\n",
              "availability_365                    int64\n",
              "dtype: object"
            ]
          },
          "metadata": {
            "tags": []
          },
          "execution_count": 9
        }
      ]
    },
    {
      "cell_type": "code",
      "metadata": {
        "id": "KEuMqMK1I5-u",
        "outputId": "bb3036cd-bafe-4d2c-b202-7284672ac652",
        "colab": {
          "base_uri": "https://localhost:8080/",
          "height": 317
        }
      },
      "source": [
        "#To understands the statistics of columns that have numeric data types.\n",
        "\n",
        "df.describe()"
      ],
      "execution_count": null,
      "outputs": [
        {
          "output_type": "execute_result",
          "data": {
            "text/html": [
              "<div>\n",
              "<style scoped>\n",
              "    .dataframe tbody tr th:only-of-type {\n",
              "        vertical-align: middle;\n",
              "    }\n",
              "\n",
              "    .dataframe tbody tr th {\n",
              "        vertical-align: top;\n",
              "    }\n",
              "\n",
              "    .dataframe thead th {\n",
              "        text-align: right;\n",
              "    }\n",
              "</style>\n",
              "<table border=\"1\" class=\"dataframe\">\n",
              "  <thead>\n",
              "    <tr style=\"text-align: right;\">\n",
              "      <th></th>\n",
              "      <th>id</th>\n",
              "      <th>host_id</th>\n",
              "      <th>latitude</th>\n",
              "      <th>longitude</th>\n",
              "      <th>price</th>\n",
              "      <th>minimum_nights</th>\n",
              "      <th>number_of_reviews</th>\n",
              "      <th>reviews_per_month</th>\n",
              "      <th>calculated_host_listings_count</th>\n",
              "      <th>availability_365</th>\n",
              "    </tr>\n",
              "  </thead>\n",
              "  <tbody>\n",
              "    <tr>\n",
              "      <th>count</th>\n",
              "      <td>4.889500e+04</td>\n",
              "      <td>4.889500e+04</td>\n",
              "      <td>48895.000000</td>\n",
              "      <td>48895.000000</td>\n",
              "      <td>48895.000000</td>\n",
              "      <td>48895.000000</td>\n",
              "      <td>48895.000000</td>\n",
              "      <td>38843.000000</td>\n",
              "      <td>48895.000000</td>\n",
              "      <td>48895.000000</td>\n",
              "    </tr>\n",
              "    <tr>\n",
              "      <th>mean</th>\n",
              "      <td>1.901714e+07</td>\n",
              "      <td>6.762001e+07</td>\n",
              "      <td>40.728949</td>\n",
              "      <td>-73.952170</td>\n",
              "      <td>152.720687</td>\n",
              "      <td>7.029962</td>\n",
              "      <td>23.274466</td>\n",
              "      <td>1.373221</td>\n",
              "      <td>7.143982</td>\n",
              "      <td>112.781327</td>\n",
              "    </tr>\n",
              "    <tr>\n",
              "      <th>std</th>\n",
              "      <td>1.098311e+07</td>\n",
              "      <td>7.861097e+07</td>\n",
              "      <td>0.054530</td>\n",
              "      <td>0.046157</td>\n",
              "      <td>240.154170</td>\n",
              "      <td>20.510550</td>\n",
              "      <td>44.550582</td>\n",
              "      <td>1.680442</td>\n",
              "      <td>32.952519</td>\n",
              "      <td>131.622289</td>\n",
              "    </tr>\n",
              "    <tr>\n",
              "      <th>min</th>\n",
              "      <td>2.539000e+03</td>\n",
              "      <td>2.438000e+03</td>\n",
              "      <td>40.499790</td>\n",
              "      <td>-74.244420</td>\n",
              "      <td>0.000000</td>\n",
              "      <td>1.000000</td>\n",
              "      <td>0.000000</td>\n",
              "      <td>0.010000</td>\n",
              "      <td>1.000000</td>\n",
              "      <td>0.000000</td>\n",
              "    </tr>\n",
              "    <tr>\n",
              "      <th>25%</th>\n",
              "      <td>9.471945e+06</td>\n",
              "      <td>7.822033e+06</td>\n",
              "      <td>40.690100</td>\n",
              "      <td>-73.983070</td>\n",
              "      <td>69.000000</td>\n",
              "      <td>1.000000</td>\n",
              "      <td>1.000000</td>\n",
              "      <td>0.190000</td>\n",
              "      <td>1.000000</td>\n",
              "      <td>0.000000</td>\n",
              "    </tr>\n",
              "    <tr>\n",
              "      <th>50%</th>\n",
              "      <td>1.967728e+07</td>\n",
              "      <td>3.079382e+07</td>\n",
              "      <td>40.723070</td>\n",
              "      <td>-73.955680</td>\n",
              "      <td>106.000000</td>\n",
              "      <td>3.000000</td>\n",
              "      <td>5.000000</td>\n",
              "      <td>0.720000</td>\n",
              "      <td>1.000000</td>\n",
              "      <td>45.000000</td>\n",
              "    </tr>\n",
              "    <tr>\n",
              "      <th>75%</th>\n",
              "      <td>2.915218e+07</td>\n",
              "      <td>1.074344e+08</td>\n",
              "      <td>40.763115</td>\n",
              "      <td>-73.936275</td>\n",
              "      <td>175.000000</td>\n",
              "      <td>5.000000</td>\n",
              "      <td>24.000000</td>\n",
              "      <td>2.020000</td>\n",
              "      <td>2.000000</td>\n",
              "      <td>227.000000</td>\n",
              "    </tr>\n",
              "    <tr>\n",
              "      <th>max</th>\n",
              "      <td>3.648724e+07</td>\n",
              "      <td>2.743213e+08</td>\n",
              "      <td>40.913060</td>\n",
              "      <td>-73.712990</td>\n",
              "      <td>10000.000000</td>\n",
              "      <td>1250.000000</td>\n",
              "      <td>629.000000</td>\n",
              "      <td>58.500000</td>\n",
              "      <td>327.000000</td>\n",
              "      <td>365.000000</td>\n",
              "    </tr>\n",
              "  </tbody>\n",
              "</table>\n",
              "</div>"
            ],
            "text/plain": [
              "                 id  ...  availability_365\n",
              "count  4.889500e+04  ...      48895.000000\n",
              "mean   1.901714e+07  ...        112.781327\n",
              "std    1.098311e+07  ...        131.622289\n",
              "min    2.539000e+03  ...          0.000000\n",
              "25%    9.471945e+06  ...          0.000000\n",
              "50%    1.967728e+07  ...         45.000000\n",
              "75%    2.915218e+07  ...        227.000000\n",
              "max    3.648724e+07  ...        365.000000\n",
              "\n",
              "[8 rows x 10 columns]"
            ]
          },
          "metadata": {
            "tags": []
          },
          "execution_count": 10
        }
      ]
    },
    {
      "cell_type": "code",
      "metadata": {
        "id": "_iBDZCNhNHAe"
      },
      "source": [
        ""
      ],
      "execution_count": null,
      "outputs": []
    },
    {
      "cell_type": "code",
      "metadata": {
        "id": "LmAvVKPaOSCN"
      },
      "source": [
        ""
      ],
      "execution_count": null,
      "outputs": []
    },
    {
      "cell_type": "code",
      "metadata": {
        "id": "vlJMAskKO697"
      },
      "source": [
        ""
      ],
      "execution_count": null,
      "outputs": []
    },
    {
      "cell_type": "code",
      "metadata": {
        "id": "gixOhwOwOr6T"
      },
      "source": [
        ""
      ],
      "execution_count": null,
      "outputs": []
    },
    {
      "cell_type": "markdown",
      "metadata": {
        "id": "V60V1WugsF2E"
      },
      "source": [
        "# More About Hosts And Properties:\n",
        "1. Data posses the information about 11452 different hosts who rented their property in New York City.They are located at different locations in the city itslef.\n",
        "2. There are 47906 unique properties listed by airbnb which belongs to 11452 different hosts. Top 5 hosts having largest number of properties include -Michael      -    417\n",
        "David         -   403\n",
        "Sonder (NYC)  -   327\n",
        "John          -   294 and\n",
        "Alex          -   279\n",
        "3. All properties are located within five neighbourhood groups in New York City. i.e 'Brooklyn', 'Manhattan', 'Queens', 'Staten Island', 'Bronx'.\n",
        "4. There are three types of options available for guests to stay-Entire home or apartment, Private room,Shared room. Availability of each segment is as follows.\n",
        "*   Entire home/apt   - 25409\n",
        "*   Private room      -22326\n",
        "*   Shared room       -  1160\n",
        "4. Most Famous Property in terms of total number of reviews is 'Room near JFK Queen Bed' owned by Dona, situated at Queens Neighborhood group.Runner ups are- Great Bedroom in Manhatten and Beautiful Bedroom in Manhattan.\n",
        "5.  Maximum number of properties located in ings are in Williamsburg neighbourhood in Brooklyn neighbourhood group.\n",
        "6.  Minimum number of properties located in Willowbrook-1,New Dorp-1,Richmondtown-1,Rossville-1.(One in each neighbourhood)\n",
        "\n",
        "\n"
      ]
    },
    {
      "cell_type": "code",
      "metadata": {
        "id": "IODcOoplsVK6",
        "outputId": "be84f27a-cebf-4416-90e6-8803a75f5832",
        "colab": {
          "base_uri": "https://localhost:8080/"
        }
      },
      "source": [
        "df[\"host_name\"].nunique()"
      ],
      "execution_count": null,
      "outputs": [
        {
          "output_type": "execute_result",
          "data": {
            "text/plain": [
              "11452"
            ]
          },
          "metadata": {
            "tags": []
          },
          "execution_count": 14
        }
      ]
    },
    {
      "cell_type": "code",
      "metadata": {
        "id": "yqnfG1Ofs4Vo",
        "outputId": "5728ec25-7d41-42a0-aa3c-4fdf6dbe9f76",
        "colab": {
          "base_uri": "https://localhost:8080/"
        }
      },
      "source": [
        "df.neighbourhood_group.unique()"
      ],
      "execution_count": null,
      "outputs": [
        {
          "output_type": "execute_result",
          "data": {
            "text/plain": [
              "array(['Brooklyn', 'Manhattan', 'Queens', 'Staten Island', 'Bronx'],\n",
              "      dtype=object)"
            ]
          },
          "metadata": {
            "tags": []
          },
          "execution_count": 15
        }
      ]
    },
    {
      "cell_type": "code",
      "metadata": {
        "id": "K7l8_phQzVMi",
        "outputId": "88a5f6de-1328-4d02-d6a6-66efa8165a2d",
        "colab": {
          "base_uri": "https://localhost:8080/"
        }
      },
      "source": [
        "df.neighbourhood.unique()"
      ],
      "execution_count": null,
      "outputs": [
        {
          "output_type": "execute_result",
          "data": {
            "text/plain": [
              "array(['Kensington', 'Midtown', 'Harlem', 'Clinton Hill', 'East Harlem',\n",
              "       'Murray Hill', 'Bedford-Stuyvesant', \"Hell's Kitchen\",\n",
              "       'Upper West Side', 'Chinatown', 'South Slope', 'West Village',\n",
              "       'Williamsburg', 'Fort Greene', 'Chelsea', 'Crown Heights',\n",
              "       'Park Slope', 'Windsor Terrace', 'Inwood', 'East Village',\n",
              "       'Greenpoint', 'Bushwick', 'Flatbush', 'Lower East Side',\n",
              "       'Prospect-Lefferts Gardens', 'Long Island City', 'Kips Bay',\n",
              "       'SoHo', 'Upper East Side', 'Prospect Heights',\n",
              "       'Washington Heights', 'Woodside', 'Brooklyn Heights',\n",
              "       'Carroll Gardens', 'Gowanus', 'Flatlands', 'Cobble Hill',\n",
              "       'Flushing', 'Boerum Hill', 'Sunnyside', 'DUMBO', 'St. George',\n",
              "       'Highbridge', 'Financial District', 'Ridgewood',\n",
              "       'Morningside Heights', 'Jamaica', 'Middle Village', 'NoHo',\n",
              "       'Ditmars Steinway', 'Flatiron District', 'Roosevelt Island',\n",
              "       'Greenwich Village', 'Little Italy', 'East Flatbush',\n",
              "       'Tompkinsville', 'Astoria', 'Clason Point', 'Eastchester',\n",
              "       'Kingsbridge', 'Two Bridges', 'Queens Village', 'Rockaway Beach',\n",
              "       'Forest Hills', 'Nolita', 'Woodlawn', 'University Heights',\n",
              "       'Gravesend', 'Gramercy', 'Allerton', 'East New York',\n",
              "       'Theater District', 'Concourse Village', 'Sheepshead Bay',\n",
              "       'Emerson Hill', 'Fort Hamilton', 'Bensonhurst', 'Tribeca',\n",
              "       'Shore Acres', 'Sunset Park', 'Concourse', 'Elmhurst',\n",
              "       'Brighton Beach', 'Jackson Heights', 'Cypress Hills', 'St. Albans',\n",
              "       'Arrochar', 'Rego Park', 'Wakefield', 'Clifton', 'Bay Ridge',\n",
              "       'Graniteville', 'Spuyten Duyvil', 'Stapleton', 'Briarwood',\n",
              "       'Ozone Park', 'Columbia St', 'Vinegar Hill', 'Mott Haven',\n",
              "       'Longwood', 'Canarsie', 'Battery Park City', 'Civic Center',\n",
              "       'East Elmhurst', 'New Springville', 'Morris Heights', 'Arverne',\n",
              "       'Cambria Heights', 'Tottenville', 'Mariners Harbor', 'Concord',\n",
              "       'Borough Park', 'Bayside', 'Downtown Brooklyn', 'Port Morris',\n",
              "       'Fieldston', 'Kew Gardens', 'Midwood', 'College Point',\n",
              "       'Mount Eden', 'City Island', 'Glendale', 'Port Richmond',\n",
              "       'Red Hook', 'Richmond Hill', 'Bellerose', 'Maspeth',\n",
              "       'Williamsbridge', 'Soundview', 'Woodhaven', 'Woodrow',\n",
              "       'Co-op City', 'Stuyvesant Town', 'Parkchester', 'North Riverdale',\n",
              "       'Dyker Heights', 'Bronxdale', 'Sea Gate', 'Riverdale',\n",
              "       'Kew Gardens Hills', 'Bay Terrace', 'Norwood', 'Claremont Village',\n",
              "       'Whitestone', 'Fordham', 'Bayswater', 'Navy Yard', 'Brownsville',\n",
              "       'Eltingville', 'Fresh Meadows', 'Mount Hope', 'Lighthouse Hill',\n",
              "       'Springfield Gardens', 'Howard Beach', 'Belle Harbor',\n",
              "       'Jamaica Estates', 'Van Nest', 'Morris Park', 'West Brighton',\n",
              "       'Far Rockaway', 'South Ozone Park', 'Tremont', 'Corona',\n",
              "       'Great Kills', 'Manhattan Beach', 'Marble Hill', 'Dongan Hills',\n",
              "       'Castleton Corners', 'East Morrisania', 'Hunts Point', 'Neponsit',\n",
              "       'Pelham Bay', 'Randall Manor', 'Throgs Neck', 'Todt Hill',\n",
              "       'West Farms', 'Silver Lake', 'Morrisania', 'Laurelton',\n",
              "       'Grymes Hill', 'Holliswood', 'Pelham Gardens', 'Belmont',\n",
              "       'Rosedale', 'Edgemere', 'New Brighton', 'Midland Beach',\n",
              "       'Baychester', 'Melrose', 'Bergen Beach', 'Richmondtown',\n",
              "       'Howland Hook', 'Schuylerville', 'Coney Island', 'New Dorp Beach',\n",
              "       \"Prince's Bay\", 'South Beach', 'Bath Beach', 'Jamaica Hills',\n",
              "       'Oakwood', 'Castle Hill', 'Hollis', 'Douglaston', 'Huguenot',\n",
              "       'Olinville', 'Edenwald', 'Grant City', 'Westerleigh',\n",
              "       'Bay Terrace, Staten Island', 'Westchester Square', 'Little Neck',\n",
              "       'Fort Wadsworth', 'Rosebank', 'Unionport', 'Mill Basin',\n",
              "       'Arden Heights', \"Bull's Head\", 'New Dorp', 'Rossville',\n",
              "       'Breezy Point', 'Willowbrook'], dtype=object)"
            ]
          },
          "metadata": {
            "tags": []
          },
          "execution_count": 16
        }
      ]
    },
    {
      "cell_type": "code",
      "metadata": {
        "id": "108bIhKVzjUG",
        "outputId": "baf06741-b860-4e11-ed44-57ce8010ac22",
        "colab": {
          "base_uri": "https://localhost:8080/"
        }
      },
      "source": [
        "len(df.neighbourhood.unique())"
      ],
      "execution_count": null,
      "outputs": [
        {
          "output_type": "execute_result",
          "data": {
            "text/plain": [
              "221"
            ]
          },
          "metadata": {
            "tags": []
          },
          "execution_count": 17
        }
      ]
    },
    {
      "cell_type": "code",
      "metadata": {
        "id": "RcNP9OpJ7HDO",
        "outputId": "7c5b6a69-dd35-4d36-95f6-f0c3422a1ec4",
        "colab": {
          "base_uri": "https://localhost:8080/"
        }
      },
      "source": [
        "#Maximum and Minimum number of properties located in:\n",
        "df['neighbourhood'].value_counts()"
      ],
      "execution_count": 73,
      "outputs": [
        {
          "output_type": "execute_result",
          "data": {
            "text/plain": [
              "Williamsburg          3802\n",
              "Bedford-Stuyvesant    3662\n",
              "Harlem                2608\n",
              "Bushwick              2452\n",
              "Upper West Side       1850\n",
              "                      ... \n",
              "Lighthouse Hill          2\n",
              "Willowbrook              1\n",
              "New Dorp                 1\n",
              "Richmondtown             1\n",
              "Rossville                1\n",
              "Name: neighbourhood, Length: 219, dtype: int64"
            ]
          },
          "metadata": {
            "tags": []
          },
          "execution_count": 73
        }
      ]
    },
    {
      "cell_type": "code",
      "metadata": {
        "id": "FoaP-z8m7UHr"
      },
      "source": [
        ""
      ],
      "execution_count": null,
      "outputs": []
    },
    {
      "cell_type": "code",
      "metadata": {
        "id": "n6PJYvNbE3PN",
        "outputId": "971d16f7-311e-4623-e745-306d0bbd2bc1",
        "colab": {
          "base_uri": "https://localhost:8080/"
        }
      },
      "source": [
        "df.room_type.unique()"
      ],
      "execution_count": null,
      "outputs": [
        {
          "output_type": "execute_result",
          "data": {
            "text/plain": [
              "array(['Private room', 'Entire home/apt', 'Shared room'], dtype=object)"
            ]
          },
          "metadata": {
            "tags": []
          },
          "execution_count": 18
        }
      ]
    },
    {
      "cell_type": "code",
      "metadata": {
        "id": "zKxjh8u_JSGQ",
        "outputId": "0231b281-5c04-49a0-ba49-d5c1748b5e6e",
        "colab": {
          "base_uri": "https://localhost:8080/"
        }
      },
      "source": [
        "df.dropna(subset = ['name'])\n",
        "len(df.name.unique())"
      ],
      "execution_count": null,
      "outputs": [
        {
          "output_type": "execute_result",
          "data": {
            "text/plain": [
              "47906"
            ]
          },
          "metadata": {
            "tags": []
          },
          "execution_count": 36
        }
      ]
    },
    {
      "cell_type": "code",
      "metadata": {
        "id": "qiV1p3LKFDmL",
        "outputId": "f3608fde-83c4-4039-fe93-335deddf3ed2",
        "colab": {
          "base_uri": "https://localhost:8080/"
        }
      },
      "source": [
        "df.isnull().sum()"
      ],
      "execution_count": null,
      "outputs": [
        {
          "output_type": "execute_result",
          "data": {
            "text/plain": [
              "id                                    0\n",
              "name                                 16\n",
              "host_id                               0\n",
              "host_name                            21\n",
              "neighbourhood_group                   0\n",
              "neighbourhood                         0\n",
              "latitude                              0\n",
              "longitude                             0\n",
              "room_type                             0\n",
              "price                                 0\n",
              "minimum_nights                        0\n",
              "number_of_reviews                     0\n",
              "last_review                       10052\n",
              "reviews_per_month                 10052\n",
              "calculated_host_listings_count        0\n",
              "availability_365                      0\n",
              "dtype: int64"
            ]
          },
          "metadata": {
            "tags": []
          },
          "execution_count": 19
        }
      ]
    },
    {
      "cell_type": "code",
      "metadata": {
        "id": "HO3XVAT8HIub",
        "outputId": "28c39fed-af10-4aef-f343-6437ca93169a",
        "colab": {
          "base_uri": "https://localhost:8080/"
        }
      },
      "source": [
        "df.dropna(subset = ['host_name'])\n",
        "top_hosts= df['host_name'].value_counts().head(10)\n",
        "top_hosts"
      ],
      "execution_count": null,
      "outputs": [
        {
          "output_type": "execute_result",
          "data": {
            "text/plain": [
              "Michael         417\n",
              "David           403\n",
              "Sonder (NYC)    327\n",
              "John            294\n",
              "Alex            279\n",
              "Blueground      232\n",
              "Sarah           227\n",
              "Daniel          226\n",
              "Jessica         205\n",
              "Maria           204\n",
              "Name: host_name, dtype: int64"
            ]
          },
          "metadata": {
            "tags": []
          },
          "execution_count": 9
        }
      ]
    },
    {
      "cell_type": "code",
      "metadata": {
        "id": "zLMuxJzRHacg"
      },
      "source": [
        "\n",
        "sns.set(rc={'figure.figsize':(12,8)})\n",
        "sns.set_style('white')"
      ],
      "execution_count": null,
      "outputs": []
    },
    {
      "cell_type": "code",
      "metadata": {
        "id": "UOU0wIDniRng",
        "outputId": "95724e49-e628-4758-e718-5061bb35b4c6",
        "colab": {
          "base_uri": "https://localhost:8080/",
          "height": 359
        }
      },
      "source": [
        "top_host_df=pd.DataFrame(top_hosts)\n",
        "top_host_df.reset_index(inplace=True)\n",
        "top_host_df.rename(columns={'index':'host_name', 'host_name':'property_count'}, inplace=True)\n",
        "top_host_df"
      ],
      "execution_count": null,
      "outputs": [
        {
          "output_type": "execute_result",
          "data": {
            "text/html": [
              "<div>\n",
              "<style scoped>\n",
              "    .dataframe tbody tr th:only-of-type {\n",
              "        vertical-align: middle;\n",
              "    }\n",
              "\n",
              "    .dataframe tbody tr th {\n",
              "        vertical-align: top;\n",
              "    }\n",
              "\n",
              "    .dataframe thead th {\n",
              "        text-align: right;\n",
              "    }\n",
              "</style>\n",
              "<table border=\"1\" class=\"dataframe\">\n",
              "  <thead>\n",
              "    <tr style=\"text-align: right;\">\n",
              "      <th></th>\n",
              "      <th>host_name</th>\n",
              "      <th>property_count</th>\n",
              "    </tr>\n",
              "  </thead>\n",
              "  <tbody>\n",
              "    <tr>\n",
              "      <th>0</th>\n",
              "      <td>Michael</td>\n",
              "      <td>417</td>\n",
              "    </tr>\n",
              "    <tr>\n",
              "      <th>1</th>\n",
              "      <td>David</td>\n",
              "      <td>403</td>\n",
              "    </tr>\n",
              "    <tr>\n",
              "      <th>2</th>\n",
              "      <td>Sonder (NYC)</td>\n",
              "      <td>327</td>\n",
              "    </tr>\n",
              "    <tr>\n",
              "      <th>3</th>\n",
              "      <td>John</td>\n",
              "      <td>294</td>\n",
              "    </tr>\n",
              "    <tr>\n",
              "      <th>4</th>\n",
              "      <td>Alex</td>\n",
              "      <td>279</td>\n",
              "    </tr>\n",
              "    <tr>\n",
              "      <th>5</th>\n",
              "      <td>Blueground</td>\n",
              "      <td>232</td>\n",
              "    </tr>\n",
              "    <tr>\n",
              "      <th>6</th>\n",
              "      <td>Sarah</td>\n",
              "      <td>227</td>\n",
              "    </tr>\n",
              "    <tr>\n",
              "      <th>7</th>\n",
              "      <td>Daniel</td>\n",
              "      <td>226</td>\n",
              "    </tr>\n",
              "    <tr>\n",
              "      <th>8</th>\n",
              "      <td>Jessica</td>\n",
              "      <td>205</td>\n",
              "    </tr>\n",
              "    <tr>\n",
              "      <th>9</th>\n",
              "      <td>Maria</td>\n",
              "      <td>204</td>\n",
              "    </tr>\n",
              "  </tbody>\n",
              "</table>\n",
              "</div>"
            ],
            "text/plain": [
              "      host_name  property_count\n",
              "0       Michael             417\n",
              "1         David             403\n",
              "2  Sonder (NYC)             327\n",
              "3          John             294\n",
              "4          Alex             279\n",
              "5    Blueground             232\n",
              "6         Sarah             227\n",
              "7        Daniel             226\n",
              "8       Jessica             205\n",
              "9         Maria             204"
            ]
          },
          "metadata": {
            "tags": []
          },
          "execution_count": 19
        }
      ]
    },
    {
      "cell_type": "code",
      "metadata": {
        "id": "-43qqgo0jVQV",
        "outputId": "93f4b98d-ee2d-49d0-b53a-8fbbf5a49cd0",
        "colab": {
          "base_uri": "https://localhost:8080/",
          "height": 737
        }
      },
      "source": [
        "viz_1=sns.barplot(x=\"host_name\", y=\"property_count\", data=top_host_df,\n",
        "                 palette='Blues_d')\n",
        "viz_1.set_title('Hosts with the most listings in NYC')\n",
        "viz_1.set_ylabel('Count of listings')\n",
        "viz_1.set_xlabel('Host Nmaes')\n",
        "viz_1.set_xticklabels(viz_1.get_xticklabels(), rotation=45)"
      ],
      "execution_count": null,
      "outputs": [
        {
          "output_type": "execute_result",
          "data": {
            "text/plain": [
              "[Text(0, 0, 'Michael'),\n",
              " Text(0, 0, 'David'),\n",
              " Text(0, 0, 'Sonder (NYC)'),\n",
              " Text(0, 0, 'John'),\n",
              " Text(0, 0, 'Alex'),\n",
              " Text(0, 0, 'Blueground'),\n",
              " Text(0, 0, 'Sarah'),\n",
              " Text(0, 0, 'Daniel'),\n",
              " Text(0, 0, 'Jessica'),\n",
              " Text(0, 0, 'Maria')]"
            ]
          },
          "metadata": {
            "tags": []
          },
          "execution_count": 23
        },
        {
          "output_type": "display_data",
          "data": {
            "image/png": "[encoded data removed]",
            "text/plain": [
              "<Figure size 864x576 with 1 Axes>"
            ]
          },
          "metadata": {
            "tags": []
          }
        }
      ]
    },
    {
      "cell_type": "markdown",
      "metadata": {
        "id": "Q1mMgdkL1m9b"
      },
      "source": [
        "Most Famous Property in terms of total number of reviews is 'Room near JFK Queen Bed' situated at Queens Neighborhood group.Runner ups are- Great Bedroom in Manhatten.and Beautiful Bedroom in Manhattan"
      ]
    },
    {
      "cell_type": "code",
      "metadata": {
        "id": "MSzGanyPypki",
        "outputId": "96f27c89-8191-49f7-c620-16b436851d0c",
        "colab": {
          "base_uri": "https://localhost:8080/",
          "height": 462
        }
      },
      "source": [
        "#Most Famous Properties in terms of reviews in NYC\n",
        "top_reviewed_hosts= df.nlargest(10,'number_of_reviews').head(5)\n",
        "top_reviewed_hosts"
      ],
      "execution_count": null,
      "outputs": [
        {
          "output_type": "execute_result",
          "data": {
            "text/html": [
              "<div>\n",
              "<style scoped>\n",
              "    .dataframe tbody tr th:only-of-type {\n",
              "        vertical-align: middle;\n",
              "    }\n",
              "\n",
              "    .dataframe tbody tr th {\n",
              "        vertical-align: top;\n",
              "    }\n",
              "\n",
              "    .dataframe thead th {\n",
              "        text-align: right;\n",
              "    }\n",
              "</style>\n",
              "<table border=\"1\" class=\"dataframe\">\n",
              "  <thead>\n",
              "    <tr style=\"text-align: right;\">\n",
              "      <th></th>\n",
              "      <th>id</th>\n",
              "      <th>name</th>\n",
              "      <th>host_id</th>\n",
              "      <th>host_name</th>\n",
              "      <th>neighbourhood_group</th>\n",
              "      <th>neighbourhood</th>\n",
              "      <th>latitude</th>\n",
              "      <th>longitude</th>\n",
              "      <th>room_type</th>\n",
              "      <th>price</th>\n",
              "      <th>minimum_nights</th>\n",
              "      <th>number_of_reviews</th>\n",
              "      <th>last_review</th>\n",
              "      <th>reviews_per_month</th>\n",
              "      <th>calculated_host_listings_count</th>\n",
              "      <th>availability_365</th>\n",
              "    </tr>\n",
              "  </thead>\n",
              "  <tbody>\n",
              "    <tr>\n",
              "      <th>11759</th>\n",
              "      <td>9145202</td>\n",
              "      <td>Room near JFK Queen Bed</td>\n",
              "      <td>47621202</td>\n",
              "      <td>Dona</td>\n",
              "      <td>Queens</td>\n",
              "      <td>Jamaica</td>\n",
              "      <td>40.66730</td>\n",
              "      <td>-73.76831</td>\n",
              "      <td>Private room</td>\n",
              "      <td>47</td>\n",
              "      <td>1</td>\n",
              "      <td>629</td>\n",
              "      <td>2019-07-05</td>\n",
              "      <td>14.58</td>\n",
              "      <td>2</td>\n",
              "      <td>333</td>\n",
              "    </tr>\n",
              "    <tr>\n",
              "      <th>2031</th>\n",
              "      <td>903972</td>\n",
              "      <td>Great Bedroom in Manhattan</td>\n",
              "      <td>4734398</td>\n",
              "      <td>Jj</td>\n",
              "      <td>Manhattan</td>\n",
              "      <td>Harlem</td>\n",
              "      <td>40.82085</td>\n",
              "      <td>-73.94025</td>\n",
              "      <td>Private room</td>\n",
              "      <td>49</td>\n",
              "      <td>1</td>\n",
              "      <td>607</td>\n",
              "      <td>2019-06-21</td>\n",
              "      <td>7.75</td>\n",
              "      <td>3</td>\n",
              "      <td>293</td>\n",
              "    </tr>\n",
              "    <tr>\n",
              "      <th>2030</th>\n",
              "      <td>903947</td>\n",
              "      <td>Beautiful Bedroom in Manhattan</td>\n",
              "      <td>4734398</td>\n",
              "      <td>Jj</td>\n",
              "      <td>Manhattan</td>\n",
              "      <td>Harlem</td>\n",
              "      <td>40.82124</td>\n",
              "      <td>-73.93838</td>\n",
              "      <td>Private room</td>\n",
              "      <td>49</td>\n",
              "      <td>1</td>\n",
              "      <td>597</td>\n",
              "      <td>2019-06-23</td>\n",
              "      <td>7.72</td>\n",
              "      <td>3</td>\n",
              "      <td>342</td>\n",
              "    </tr>\n",
              "    <tr>\n",
              "      <th>2015</th>\n",
              "      <td>891117</td>\n",
              "      <td>Private Bedroom in Manhattan</td>\n",
              "      <td>4734398</td>\n",
              "      <td>Jj</td>\n",
              "      <td>Manhattan</td>\n",
              "      <td>Harlem</td>\n",
              "      <td>40.82264</td>\n",
              "      <td>-73.94041</td>\n",
              "      <td>Private room</td>\n",
              "      <td>49</td>\n",
              "      <td>1</td>\n",
              "      <td>594</td>\n",
              "      <td>2019-06-15</td>\n",
              "      <td>7.57</td>\n",
              "      <td>3</td>\n",
              "      <td>339</td>\n",
              "    </tr>\n",
              "    <tr>\n",
              "      <th>13495</th>\n",
              "      <td>10101135</td>\n",
              "      <td>Room Near JFK Twin Beds</td>\n",
              "      <td>47621202</td>\n",
              "      <td>Dona</td>\n",
              "      <td>Queens</td>\n",
              "      <td>Jamaica</td>\n",
              "      <td>40.66939</td>\n",
              "      <td>-73.76975</td>\n",
              "      <td>Private room</td>\n",
              "      <td>47</td>\n",
              "      <td>1</td>\n",
              "      <td>576</td>\n",
              "      <td>2019-06-27</td>\n",
              "      <td>13.40</td>\n",
              "      <td>2</td>\n",
              "      <td>173</td>\n",
              "    </tr>\n",
              "  </tbody>\n",
              "</table>\n",
              "</div>"
            ],
            "text/plain": [
              "             id  ... availability_365\n",
              "11759   9145202  ...              333\n",
              "2031     903972  ...              293\n",
              "2030     903947  ...              342\n",
              "2015     891117  ...              339\n",
              "13495  10101135  ...              173\n",
              "\n",
              "[5 rows x 16 columns]"
            ]
          },
          "metadata": {
            "tags": []
          },
          "execution_count": 23
        }
      ]
    },
    {
      "cell_type": "code",
      "metadata": {
        "id": "yuwDa48MoZLI",
        "outputId": "de5bb1e1-7a7e-4e88-ea03-56d3112ea307",
        "colab": {
          "base_uri": "https://localhost:8080/",
          "height": 673
        }
      },
      "source": [
        "sns.catplot(\"neighbourhood_group\", data=df, kind=\"count\", height=8)"
      ],
      "execution_count": null,
      "outputs": [
        {
          "output_type": "stream",
          "text": [
            "/usr/local/lib/python3.6/dist-packages/seaborn/_decorators.py:43: FutureWarning: Pass the following variable as a keyword arg: x. From version 0.12, the only valid positional argument will be `data`, and passing other arguments without an explicit keyword will result in an error or misinterpretation.\n",
            "  FutureWarning\n"
          ],
          "name": "stderr"
        },
        {
          "output_type": "execute_result",
          "data": {
            "text/plain": [
              "<seaborn.axisgrid.FacetGrid at 0x7f80d2212c18>"
            ]
          },
          "metadata": {
            "tags": []
          },
          "execution_count": 6
        },
        {
          "output_type": "display_data",
          "data": {
            "image/png": "[encoded data removed]",
            "text/plain": [
              "<Figure size 576x576 with 1 Axes>"
            ]
          },
          "metadata": {
            "tags": []
          }
        }
      ]
    },
    {
      "cell_type": "code",
      "metadata": {
        "id": "9jwBx0B0ohve",
        "outputId": "7ff1ddc2-16e9-4dd6-a225-839252ca4d19",
        "colab": {
          "base_uri": "https://localhost:8080/",
          "height": 661
        }
      },
      "source": [
        "sns.set(font_scale=1.5)\n",
        "sns.catplot(\"room_type\", data=df, kind=\"count\", height=8)"
      ],
      "execution_count": null,
      "outputs": [
        {
          "output_type": "stream",
          "text": [
            "/usr/local/lib/python3.6/dist-packages/seaborn/_decorators.py:43: FutureWarning: Pass the following variable as a keyword arg: x. From version 0.12, the only valid positional argument will be `data`, and passing other arguments without an explicit keyword will result in an error or misinterpretation.\n",
            "  FutureWarning\n"
          ],
          "name": "stderr"
        },
        {
          "output_type": "execute_result",
          "data": {
            "text/plain": [
              "<seaborn.axisgrid.FacetGrid at 0x7f80b05a2e48>"
            ]
          },
          "metadata": {
            "tags": []
          },
          "execution_count": 7
        },
        {
          "output_type": "display_data",
          "data": {
            "image/png": "[encoded data removed]",
            "text/plain": [
              "<Figure size 576x576 with 1 Axes>"
            ]
          },
          "metadata": {
            "tags": []
          }
        }
      ]
    },
    {
      "cell_type": "code",
      "metadata": {
        "id": "-hYbns6to2cX",
        "outputId": "dd05b465-1d36-408a-f7fe-3c48e085cc85",
        "colab": {
          "base_uri": "https://localhost:8080/"
        }
      },
      "source": [
        "data = df.neighbourhood.value_counts()[:10]\n",
        "data"
      ],
      "execution_count": null,
      "outputs": [
        {
          "output_type": "execute_result",
          "data": {
            "text/plain": [
              "Williamsburg          3920\n",
              "Bedford-Stuyvesant    3714\n",
              "Harlem                2658\n",
              "Bushwick              2465\n",
              "Upper West Side       1971\n",
              "Hell's Kitchen        1958\n",
              "East Village          1853\n",
              "Upper East Side       1798\n",
              "Crown Heights         1564\n",
              "Midtown               1545\n",
              "Name: neighbourhood, dtype: int64"
            ]
          },
          "metadata": {
            "tags": []
          },
          "execution_count": 9
        }
      ]
    },
    {
      "cell_type": "code",
      "metadata": {
        "id": "KofA7joWor63",
        "outputId": "b20c6eb6-953c-427d-f469-1d8c7dbc831f",
        "colab": {
          "base_uri": "https://localhost:8080/",
          "height": 552
        }
      },
      "source": [
        "data = df.neighbourhood.value_counts()[:10]\n",
        "plt.figure(figsize=(12, 8))\n",
        "x = list(data.index)\n",
        "y = list(data.values)\n",
        "\n",
        "plt.title(\"Most Popular Neighbourhood\")\n",
        "plt.ylabel(\"Neighbourhood Area\")\n",
        "plt.xlabel(\"Number of guest Who host in this Area\")\n",
        "\n",
        "plt.barh(x, y)"
      ],
      "execution_count": null,
      "outputs": [
        {
          "output_type": "execute_result",
          "data": {
            "text/plain": [
              "<BarContainer object of 10 artists>"
            ]
          },
          "metadata": {
            "tags": []
          },
          "execution_count": 8
        },
        {
          "output_type": "display_data",
          "data": {
            "image/png": "[encoded data removed]",
            "text/plain": [
              "<Figure size 864x576 with 1 Axes>"
            ]
          },
          "metadata": {
            "tags": []
          }
        }
      ]
    },
    {
      "cell_type": "code",
      "metadata": {
        "id": "4kH8jGrNpGDH",
        "outputId": "3497c8b9-e814-4d35-a0d6-d0544502d9b2",
        "colab": {
          "base_uri": "https://localhost:8080/",
          "height": 501
        }
      },
      "source": [
        "# correlation matrix\n",
        "sns.set(font_scale=1)\n",
        "plt.figure(figsize=(10, 5))\n",
        "sns.heatmap(df.corr(), annot=True)"
      ],
      "execution_count": null,
      "outputs": [
        {
          "output_type": "execute_result",
          "data": {
            "text/plain": [
              "<matplotlib.axes._subplots.AxesSubplot at 0x7f80ae85b668>"
            ]
          },
          "metadata": {
            "tags": []
          },
          "execution_count": 12
        },
        {
          "output_type": "display_data",
          "data": {
            "image/png": "[encoded data removed]",
            "text/plain": [
              "<Figure size 720x360 with 2 Axes>"
            ]
          },
          "metadata": {
            "tags": []
          }
        }
      ]
    },
    {
      "cell_type": "code",
      "metadata": {
        "id": "59_QYR54uVm8",
        "outputId": "6357bc05-d948-4420-dca6-91634d31be3f",
        "colab": {
          "base_uri": "https://localhost:8080/",
          "height": 285
        }
      },
      "source": [
        "x=df['latitude']\n",
        "y=df['longitude']\n",
        "plt.scatter(x,y)"
      ],
      "execution_count": null,
      "outputs": [
        {
          "output_type": "execute_result",
          "data": {
            "text/plain": [
              "<matplotlib.collections.PathCollection at 0x7f80a5ece0b8>"
            ]
          },
          "metadata": {
            "tags": []
          },
          "execution_count": 18
        },
        {
          "output_type": "display_data",
          "data": {
            "image/png": "[encoded data removed]",
            "text/plain": [
              "<Figure size 432x288 with 1 Axes>"
            ]
          },
          "metadata": {
            "tags": []
          }
        }
      ]
    },
    {
      "cell_type": "code",
      "metadata": {
        "id": "7RcaJfMvy_La",
        "outputId": "e27b0557-e53d-47a1-e42e-a6e1bdc6b750",
        "colab": {
          "base_uri": "https://localhost:8080/"
        }
      },
      "source": [
        "top_type_of_room= df['room_type'].value_counts().head(10)\n",
        "top_type_of_room"
      ],
      "execution_count": null,
      "outputs": [
        {
          "output_type": "execute_result",
          "data": {
            "text/plain": [
              "Entire home/apt    25409\n",
              "Private room       22326\n",
              "Shared room         1160\n",
              "Name: room_type, dtype: int64"
            ]
          },
          "metadata": {
            "tags": []
          },
          "execution_count": 21
        }
      ]
    },
    {
      "cell_type": "code",
      "metadata": {
        "id": "42B8lQ2a7TlU"
      },
      "source": [
        "top_host1=df.host_id.value_counts().head(10)\n",
        "top_host1"
      ],
      "execution_count": null,
      "outputs": []
    },
    {
      "cell_type": "markdown",
      "metadata": {
        "id": "KUBQhS41vgTU"
      },
      "source": [
        "# Searching The Busiest Host:\n",
        "We have to do lot of brainstorming here to find out the busiest host.The first question comes in my mind is How we are going define word 'business'? Should we consider Host with large number of properties is busy, Going by this logic, we will get **Michael** as the busiest host. But if we consider other parameters like total reviews or reviews per month we can get different answers.\n",
        "\n",
        "\n",
        "*   If we consider total reviews to find the busiest host, Most busiest host becomes **Dona** and the name her property is 'Room near JFK Queen Bed'.She is having 629 total reviews. But there is one propblem in this approach, what if Dona's hotel is oldest one she will be having more Total Reviews tahn newly listed property. To overcome this problem we shall take monthly reviews.\n",
        "*   Here comes the another compititr to our previous winner 'Dona'. If we consider the reviews per month instead of total reviews the clearcut winner here is **Row NYC** and his property named- 'Enjoy great views of the City in our Deluxe Room!'\n",
        "\n",
        "**You might be thinking as why Row NYC, Louann, Nalicia are the busiest hosts ?**\n",
        "For that, lets do some scrutiny and play with corresponding rows and columns. \n",
        "\n",
        "*   We will find out that prices of these host's properties are relativeley cheaper(Its below IQR value) than 75% of the listed properties in NYC.\n",
        "*   They offer most demanding property type i.e. Private room. \n",
        "*   Some hotels have minimun stay policy as greater than one night stay. But busiest guest allow minimum one night stay to guests. We can take example here, like, if my requirement of stay is only one day, I should not go for properties having minimum stay policy grater than one day. So It will become my natural choice to find out such hotels which allow me stay for minimum duration.\n",
        "\n",
        "\n",
        "\n",
        "\n"
      ]
    },
    {
      "cell_type": "markdown",
      "metadata": {
        "id": "WhKxwGOV5irE"
      },
      "source": [
        ""
      ]
    },
    {
      "cell_type": "code",
      "metadata": {
        "id": "v281GfYpkQmw",
        "outputId": "5d900b84-b13b-4318-e520-811afb08bb1e",
        "colab": {
          "base_uri": "https://localhost:8080/"
        }
      },
      "source": [
        "#Dilemma: 'Zero' Vs 'median values' in place of null values in reviews per month column. will let 'zero' tweo win this match.\n",
        "df.fillna({'reviews_per_month':0}, inplace=True)\n",
        "df.reviews_per_month.isnull().sum()"
      ],
      "execution_count": null,
      "outputs": [
        {
          "output_type": "execute_result",
          "data": {
            "text/plain": [
              "0"
            ]
          },
          "metadata": {
            "tags": []
          },
          "execution_count": 10
        }
      ]
    },
    {
      "cell_type": "code",
      "metadata": {
        "id": "REQCVA8irOIZ",
        "outputId": "28ec448e-65cf-4b9d-c2dc-e90702b7f8c0",
        "colab": {
          "base_uri": "https://localhost:8080/"
        }
      },
      "source": [
        "top_host1=df.host_id.value_counts().head(10)\n",
        "top_host1"
      ],
      "execution_count": null,
      "outputs": [
        {
          "output_type": "execute_result",
          "data": {
            "text/plain": [
              "219517861    327\n",
              "107434423    232\n",
              "30283594     121\n",
              "137358866    103\n",
              "12243051      96\n",
              "16098958      96\n",
              "61391963      91\n",
              "22541573      87\n",
              "200380610     65\n",
              "7503643       52\n",
              "Name: host_id, dtype: int64"
            ]
          },
          "metadata": {
            "tags": []
          },
          "execution_count": 14
        }
      ]
    },
    {
      "cell_type": "code",
      "metadata": {
        "id": "TjI47WzJv9ax",
        "outputId": "bc5b0de6-bde7-4504-fc99-812f3de8204c",
        "colab": {
          "base_uri": "https://localhost:8080/",
          "height": 583
        }
      },
      "source": [
        "top_reviewed_hosts= df.nlargest(10,'number_of_reviews').head(10)\n",
        "top_reviewed_hosts"
      ],
      "execution_count": null,
      "outputs": [
        {
          "output_type": "execute_result",
          "data": {
            "text/html": [
              "<div>\n",
              "<style scoped>\n",
              "    .dataframe tbody tr th:only-of-type {\n",
              "        vertical-align: middle;\n",
              "    }\n",
              "\n",
              "    .dataframe tbody tr th {\n",
              "        vertical-align: top;\n",
              "    }\n",
              "\n",
              "    .dataframe thead th {\n",
              "        text-align: right;\n",
              "    }\n",
              "</style>\n",
              "<table border=\"1\" class=\"dataframe\">\n",
              "  <thead>\n",
              "    <tr style=\"text-align: right;\">\n",
              "      <th></th>\n",
              "      <th>id</th>\n",
              "      <th>name</th>\n",
              "      <th>host_id</th>\n",
              "      <th>host_name</th>\n",
              "      <th>neighbourhood_group</th>\n",
              "      <th>neighbourhood</th>\n",
              "      <th>latitude</th>\n",
              "      <th>longitude</th>\n",
              "      <th>room_type</th>\n",
              "      <th>price</th>\n",
              "      <th>minimum_nights</th>\n",
              "      <th>number_of_reviews</th>\n",
              "      <th>last_review</th>\n",
              "      <th>reviews_per_month</th>\n",
              "      <th>calculated_host_listings_count</th>\n",
              "      <th>availability_365</th>\n",
              "    </tr>\n",
              "  </thead>\n",
              "  <tbody>\n",
              "    <tr>\n",
              "      <th>11759</th>\n",
              "      <td>9145202</td>\n",
              "      <td>Room near JFK Queen Bed</td>\n",
              "      <td>47621202</td>\n",
              "      <td>Dona</td>\n",
              "      <td>Queens</td>\n",
              "      <td>Jamaica</td>\n",
              "      <td>40.66730</td>\n",
              "      <td>-73.76831</td>\n",
              "      <td>Private room</td>\n",
              "      <td>47</td>\n",
              "      <td>1</td>\n",
              "      <td>629</td>\n",
              "      <td>2019-07-05</td>\n",
              "      <td>14.58</td>\n",
              "      <td>2</td>\n",
              "      <td>333</td>\n",
              "    </tr>\n",
              "    <tr>\n",
              "      <th>2031</th>\n",
              "      <td>903972</td>\n",
              "      <td>Great Bedroom in Manhattan</td>\n",
              "      <td>4734398</td>\n",
              "      <td>Jj</td>\n",
              "      <td>Manhattan</td>\n",
              "      <td>Harlem</td>\n",
              "      <td>40.82085</td>\n",
              "      <td>-73.94025</td>\n",
              "      <td>Private room</td>\n",
              "      <td>49</td>\n",
              "      <td>1</td>\n",
              "      <td>607</td>\n",
              "      <td>2019-06-21</td>\n",
              "      <td>7.75</td>\n",
              "      <td>3</td>\n",
              "      <td>293</td>\n",
              "    </tr>\n",
              "    <tr>\n",
              "      <th>2030</th>\n",
              "      <td>903947</td>\n",
              "      <td>Beautiful Bedroom in Manhattan</td>\n",
              "      <td>4734398</td>\n",
              "      <td>Jj</td>\n",
              "      <td>Manhattan</td>\n",
              "      <td>Harlem</td>\n",
              "      <td>40.82124</td>\n",
              "      <td>-73.93838</td>\n",
              "      <td>Private room</td>\n",
              "      <td>49</td>\n",
              "      <td>1</td>\n",
              "      <td>597</td>\n",
              "      <td>2019-06-23</td>\n",
              "      <td>7.72</td>\n",
              "      <td>3</td>\n",
              "      <td>342</td>\n",
              "    </tr>\n",
              "    <tr>\n",
              "      <th>2015</th>\n",
              "      <td>891117</td>\n",
              "      <td>Private Bedroom in Manhattan</td>\n",
              "      <td>4734398</td>\n",
              "      <td>Jj</td>\n",
              "      <td>Manhattan</td>\n",
              "      <td>Harlem</td>\n",
              "      <td>40.82264</td>\n",
              "      <td>-73.94041</td>\n",
              "      <td>Private room</td>\n",
              "      <td>49</td>\n",
              "      <td>1</td>\n",
              "      <td>594</td>\n",
              "      <td>2019-06-15</td>\n",
              "      <td>7.57</td>\n",
              "      <td>3</td>\n",
              "      <td>339</td>\n",
              "    </tr>\n",
              "    <tr>\n",
              "      <th>13495</th>\n",
              "      <td>10101135</td>\n",
              "      <td>Room Near JFK Twin Beds</td>\n",
              "      <td>47621202</td>\n",
              "      <td>Dona</td>\n",
              "      <td>Queens</td>\n",
              "      <td>Jamaica</td>\n",
              "      <td>40.66939</td>\n",
              "      <td>-73.76975</td>\n",
              "      <td>Private room</td>\n",
              "      <td>47</td>\n",
              "      <td>1</td>\n",
              "      <td>576</td>\n",
              "      <td>2019-06-27</td>\n",
              "      <td>13.40</td>\n",
              "      <td>2</td>\n",
              "      <td>173</td>\n",
              "    </tr>\n",
              "    <tr>\n",
              "      <th>10623</th>\n",
              "      <td>8168619</td>\n",
              "      <td>Steps away from Laguardia airport</td>\n",
              "      <td>37312959</td>\n",
              "      <td>Maya</td>\n",
              "      <td>Queens</td>\n",
              "      <td>East Elmhurst</td>\n",
              "      <td>40.77006</td>\n",
              "      <td>-73.87683</td>\n",
              "      <td>Private room</td>\n",
              "      <td>46</td>\n",
              "      <td>1</td>\n",
              "      <td>543</td>\n",
              "      <td>2019-07-01</td>\n",
              "      <td>11.59</td>\n",
              "      <td>5</td>\n",
              "      <td>163</td>\n",
              "    </tr>\n",
              "    <tr>\n",
              "      <th>1879</th>\n",
              "      <td>834190</td>\n",
              "      <td>Manhattan Lux Loft.Like.Love.Lots.Look !</td>\n",
              "      <td>2369681</td>\n",
              "      <td>Carol</td>\n",
              "      <td>Manhattan</td>\n",
              "      <td>Lower East Side</td>\n",
              "      <td>40.71921</td>\n",
              "      <td>-73.99116</td>\n",
              "      <td>Private room</td>\n",
              "      <td>99</td>\n",
              "      <td>2</td>\n",
              "      <td>540</td>\n",
              "      <td>2019-07-06</td>\n",
              "      <td>6.95</td>\n",
              "      <td>1</td>\n",
              "      <td>179</td>\n",
              "    </tr>\n",
              "    <tr>\n",
              "      <th>20403</th>\n",
              "      <td>16276632</td>\n",
              "      <td>Cozy Room Family Home LGA Airport NO CLEANING FEE</td>\n",
              "      <td>26432133</td>\n",
              "      <td>Danielle</td>\n",
              "      <td>Queens</td>\n",
              "      <td>East Elmhurst</td>\n",
              "      <td>40.76335</td>\n",
              "      <td>-73.87007</td>\n",
              "      <td>Private room</td>\n",
              "      <td>48</td>\n",
              "      <td>1</td>\n",
              "      <td>510</td>\n",
              "      <td>2019-07-06</td>\n",
              "      <td>16.22</td>\n",
              "      <td>5</td>\n",
              "      <td>341</td>\n",
              "    </tr>\n",
              "    <tr>\n",
              "      <th>4870</th>\n",
              "      <td>3474320</td>\n",
              "      <td>Private brownstone studio Brooklyn</td>\n",
              "      <td>12949460</td>\n",
              "      <td>Asa</td>\n",
              "      <td>Brooklyn</td>\n",
              "      <td>Park Slope</td>\n",
              "      <td>40.67926</td>\n",
              "      <td>-73.97711</td>\n",
              "      <td>Entire home/apt</td>\n",
              "      <td>160</td>\n",
              "      <td>1</td>\n",
              "      <td>488</td>\n",
              "      <td>2019-07-01</td>\n",
              "      <td>8.14</td>\n",
              "      <td>1</td>\n",
              "      <td>269</td>\n",
              "    </tr>\n",
              "    <tr>\n",
              "      <th>471</th>\n",
              "      <td>166172</td>\n",
              "      <td>LG Private Room/Family Friendly</td>\n",
              "      <td>792159</td>\n",
              "      <td>Wanda</td>\n",
              "      <td>Brooklyn</td>\n",
              "      <td>Bushwick</td>\n",
              "      <td>40.70283</td>\n",
              "      <td>-73.92131</td>\n",
              "      <td>Private room</td>\n",
              "      <td>60</td>\n",
              "      <td>3</td>\n",
              "      <td>480</td>\n",
              "      <td>2019-07-07</td>\n",
              "      <td>6.70</td>\n",
              "      <td>1</td>\n",
              "      <td>0</td>\n",
              "    </tr>\n",
              "  </tbody>\n",
              "</table>\n",
              "</div>"
            ],
            "text/plain": [
              "             id  ... availability_365\n",
              "11759   9145202  ...              333\n",
              "2031     903972  ...              293\n",
              "2030     903947  ...              342\n",
              "2015     891117  ...              339\n",
              "13495  10101135  ...              173\n",
              "10623   8168619  ...              163\n",
              "1879     834190  ...              179\n",
              "20403  16276632  ...              341\n",
              "4870    3474320  ...              269\n",
              "471      166172  ...                0\n",
              "\n",
              "[10 rows x 16 columns]"
            ]
          },
          "metadata": {
            "tags": []
          },
          "execution_count": 27
        }
      ]
    },
    {
      "cell_type": "code",
      "metadata": {
        "id": "wCHSwgxQyEpJ",
        "outputId": "8074dbc1-6efe-419b-eaff-36e9a4638f8a",
        "colab": {
          "base_uri": "https://localhost:8080/",
          "height": 1000
        }
      },
      "source": [
        "top_review_per_month_hosts= df.nlargest(10,'reviews_per_month')\n",
        "top_review_per_month_hosts"
      ],
      "execution_count": null,
      "outputs": [
        {
          "output_type": "execute_result",
          "data": {
            "text/html": [
              "<div>\n",
              "<style scoped>\n",
              "    .dataframe tbody tr th:only-of-type {\n",
              "        vertical-align: middle;\n",
              "    }\n",
              "\n",
              "    .dataframe tbody tr th {\n",
              "        vertical-align: top;\n",
              "    }\n",
              "\n",
              "    .dataframe thead th {\n",
              "        text-align: right;\n",
              "    }\n",
              "</style>\n",
              "<table border=\"1\" class=\"dataframe\">\n",
              "  <thead>\n",
              "    <tr style=\"text-align: right;\">\n",
              "      <th></th>\n",
              "      <th>id</th>\n",
              "      <th>name</th>\n",
              "      <th>host_id</th>\n",
              "      <th>host_name</th>\n",
              "      <th>neighbourhood_group</th>\n",
              "      <th>neighbourhood</th>\n",
              "      <th>latitude</th>\n",
              "      <th>longitude</th>\n",
              "      <th>room_type</th>\n",
              "      <th>price</th>\n",
              "      <th>minimum_nights</th>\n",
              "      <th>number_of_reviews</th>\n",
              "      <th>last_review</th>\n",
              "      <th>reviews_per_month</th>\n",
              "      <th>calculated_host_listings_count</th>\n",
              "      <th>availability_365</th>\n",
              "    </tr>\n",
              "  </thead>\n",
              "  <tbody>\n",
              "    <tr>\n",
              "      <th>42075</th>\n",
              "      <td>32678719</td>\n",
              "      <td>Enjoy great views of the City in our Deluxe Room!</td>\n",
              "      <td>244361589</td>\n",
              "      <td>Row NYC</td>\n",
              "      <td>Manhattan</td>\n",
              "      <td>Theater District</td>\n",
              "      <td>40.75918</td>\n",
              "      <td>-73.98801</td>\n",
              "      <td>Private room</td>\n",
              "      <td>100</td>\n",
              "      <td>1</td>\n",
              "      <td>156</td>\n",
              "      <td>2019-07-07</td>\n",
              "      <td>58.50</td>\n",
              "      <td>9</td>\n",
              "      <td>299</td>\n",
              "    </tr>\n",
              "    <tr>\n",
              "      <th>42076</th>\n",
              "      <td>32678720</td>\n",
              "      <td>Great Room in the heart of Times Square!</td>\n",
              "      <td>244361589</td>\n",
              "      <td>Row NYC</td>\n",
              "      <td>Manhattan</td>\n",
              "      <td>Theater District</td>\n",
              "      <td>40.75828</td>\n",
              "      <td>-73.98876</td>\n",
              "      <td>Private room</td>\n",
              "      <td>199</td>\n",
              "      <td>1</td>\n",
              "      <td>82</td>\n",
              "      <td>2019-07-07</td>\n",
              "      <td>27.95</td>\n",
              "      <td>9</td>\n",
              "      <td>299</td>\n",
              "    </tr>\n",
              "    <tr>\n",
              "      <th>38870</th>\n",
              "      <td>30423106</td>\n",
              "      <td>Lou's Palace-So much for so little</td>\n",
              "      <td>228415932</td>\n",
              "      <td>Louann</td>\n",
              "      <td>Queens</td>\n",
              "      <td>Rosedale</td>\n",
              "      <td>40.65417</td>\n",
              "      <td>-73.74158</td>\n",
              "      <td>Private room</td>\n",
              "      <td>45</td>\n",
              "      <td>1</td>\n",
              "      <td>37</td>\n",
              "      <td>2019-07-08</td>\n",
              "      <td>20.94</td>\n",
              "      <td>1</td>\n",
              "      <td>134</td>\n",
              "    </tr>\n",
              "    <tr>\n",
              "      <th>27287</th>\n",
              "      <td>21550302</td>\n",
              "      <td>JFK Comfort.5 Mins from JFK Private Bedroom &amp; ...</td>\n",
              "      <td>156684502</td>\n",
              "      <td>Nalicia</td>\n",
              "      <td>Queens</td>\n",
              "      <td>Springfield Gardens</td>\n",
              "      <td>40.66110</td>\n",
              "      <td>-73.76830</td>\n",
              "      <td>Private room</td>\n",
              "      <td>80</td>\n",
              "      <td>1</td>\n",
              "      <td>403</td>\n",
              "      <td>2019-07-06</td>\n",
              "      <td>19.75</td>\n",
              "      <td>3</td>\n",
              "      <td>26</td>\n",
              "    </tr>\n",
              "    <tr>\n",
              "      <th>28651</th>\n",
              "      <td>22176831</td>\n",
              "      <td>JFK 2 Comfort 5 Mins from JFK Private Bedroom</td>\n",
              "      <td>156684502</td>\n",
              "      <td>Nalicia</td>\n",
              "      <td>Queens</td>\n",
              "      <td>Springfield Gardens</td>\n",
              "      <td>40.66158</td>\n",
              "      <td>-73.77050</td>\n",
              "      <td>Private room</td>\n",
              "      <td>50</td>\n",
              "      <td>1</td>\n",
              "      <td>341</td>\n",
              "      <td>2019-07-08</td>\n",
              "      <td>17.82</td>\n",
              "      <td>3</td>\n",
              "      <td>25</td>\n",
              "    </tr>\n",
              "    <tr>\n",
              "      <th>29628</th>\n",
              "      <td>22750161</td>\n",
              "      <td>JFK 3 Comfort 5 Mins from JFK Private Bedroom</td>\n",
              "      <td>156684502</td>\n",
              "      <td>Nalicia</td>\n",
              "      <td>Queens</td>\n",
              "      <td>Springfield Gardens</td>\n",
              "      <td>40.66298</td>\n",
              "      <td>-73.77000</td>\n",
              "      <td>Private room</td>\n",
              "      <td>50</td>\n",
              "      <td>1</td>\n",
              "      <td>302</td>\n",
              "      <td>2019-07-06</td>\n",
              "      <td>16.81</td>\n",
              "      <td>3</td>\n",
              "      <td>26</td>\n",
              "    </tr>\n",
              "    <tr>\n",
              "      <th>20403</th>\n",
              "      <td>16276632</td>\n",
              "      <td>Cozy Room Family Home LGA Airport NO CLEANING FEE</td>\n",
              "      <td>26432133</td>\n",
              "      <td>Danielle</td>\n",
              "      <td>Queens</td>\n",
              "      <td>East Elmhurst</td>\n",
              "      <td>40.76335</td>\n",
              "      <td>-73.87007</td>\n",
              "      <td>Private room</td>\n",
              "      <td>48</td>\n",
              "      <td>1</td>\n",
              "      <td>510</td>\n",
              "      <td>2019-07-06</td>\n",
              "      <td>16.22</td>\n",
              "      <td>5</td>\n",
              "      <td>341</td>\n",
              "    </tr>\n",
              "    <tr>\n",
              "      <th>22469</th>\n",
              "      <td>18173787</td>\n",
              "      <td>Cute Tiny Room Family Home by LGA NO CLEANING FEE</td>\n",
              "      <td>26432133</td>\n",
              "      <td>Danielle</td>\n",
              "      <td>Queens</td>\n",
              "      <td>East Elmhurst</td>\n",
              "      <td>40.76380</td>\n",
              "      <td>-73.87238</td>\n",
              "      <td>Private room</td>\n",
              "      <td>48</td>\n",
              "      <td>1</td>\n",
              "      <td>436</td>\n",
              "      <td>2019-07-08</td>\n",
              "      <td>16.03</td>\n",
              "      <td>5</td>\n",
              "      <td>337</td>\n",
              "    </tr>\n",
              "    <tr>\n",
              "      <th>36238</th>\n",
              "      <td>28826608</td>\n",
              "      <td>“For Heaven Cakes”</td>\n",
              "      <td>217379941</td>\n",
              "      <td>Brent</td>\n",
              "      <td>Queens</td>\n",
              "      <td>Springfield Gardens</td>\n",
              "      <td>40.66457</td>\n",
              "      <td>-73.76918</td>\n",
              "      <td>Entire home/apt</td>\n",
              "      <td>75</td>\n",
              "      <td>1</td>\n",
              "      <td>132</td>\n",
              "      <td>2019-07-05</td>\n",
              "      <td>15.78</td>\n",
              "      <td>1</td>\n",
              "      <td>28</td>\n",
              "    </tr>\n",
              "    <tr>\n",
              "      <th>40297</th>\n",
              "      <td>31249784</td>\n",
              "      <td>Studio Apartment 6 minutes from JFK Airport</td>\n",
              "      <td>232251881</td>\n",
              "      <td>Lakshmee</td>\n",
              "      <td>Queens</td>\n",
              "      <td>Jamaica</td>\n",
              "      <td>40.66793</td>\n",
              "      <td>-73.78452</td>\n",
              "      <td>Private room</td>\n",
              "      <td>67</td>\n",
              "      <td>1</td>\n",
              "      <td>95</td>\n",
              "      <td>2019-07-05</td>\n",
              "      <td>15.32</td>\n",
              "      <td>8</td>\n",
              "      <td>145</td>\n",
              "    </tr>\n",
              "  </tbody>\n",
              "</table>\n",
              "</div>"
            ],
            "text/plain": [
              "             id  ... availability_365\n",
              "42075  32678719  ...              299\n",
              "42076  32678720  ...              299\n",
              "38870  30423106  ...              134\n",
              "27287  21550302  ...               26\n",
              "28651  22176831  ...               25\n",
              "29628  22750161  ...               26\n",
              "20403  16276632  ...              341\n",
              "22469  18173787  ...              337\n",
              "36238  28826608  ...               28\n",
              "40297  31249784  ...              145\n",
              "\n",
              "[10 rows x 16 columns]"
            ]
          },
          "metadata": {
            "tags": []
          },
          "execution_count": 31
        }
      ]
    },
    {
      "cell_type": "markdown",
      "metadata": {
        "id": "T5YhPHRPh0Yp"
      },
      "source": [
        "# Central Tendancies\n",
        "\n",
        "\n",
        "*   **Price predictions**\n",
        "1. We can see that the average price is 152. Price varies between $0.0 and $10000.\n",
        "2.  We see that the average price is 125. Price varies between 0 to 399.\n",
        "2.  Removed outliers which are greater than $400 price.\n",
        "3. There are only 11 rows having zero values in price column.\n",
        "4. Properties located at Manhatten are are having maximum average value followed by Brooklyn and State Island.\n",
        "\n",
        "\n",
        "\n",
        "\n"
      ]
    },
    {
      "cell_type": "code",
      "metadata": {
        "id": "PTbzkUkbn4wU",
        "outputId": "1b567a5a-da31-4f01-e03f-2025f4155483",
        "colab": {
          "base_uri": "https://localhost:8080/"
        }
      },
      "source": [
        "df2.isnull().sum()"
      ],
      "execution_count": 31,
      "outputs": [
        {
          "output_type": "execute_result",
          "data": {
            "text/plain": [
              "0"
            ]
          },
          "metadata": {
            "tags": []
          },
          "execution_count": 31
        }
      ]
    },
    {
      "cell_type": "code",
      "metadata": {
        "id": "-aIVwyl1oTPT",
        "outputId": "7d9e80f3-2422-4781-ef22-5e4216f822f3",
        "colab": {
          "base_uri": "https://localhost:8080/"
        }
      },
      "source": [
        "df4=df.loc[df['price'] == 0]\n",
        "df4.shape\n"
      ],
      "execution_count": 34,
      "outputs": [
        {
          "output_type": "execute_result",
          "data": {
            "text/plain": [
              "(11, 16)"
            ]
          },
          "metadata": {
            "tags": []
          },
          "execution_count": 34
        }
      ]
    },
    {
      "cell_type": "code",
      "metadata": {
        "id": "WcnsBOyYhzXN",
        "outputId": "8581622e-c803-4da5-f0af-d3aaccea644d",
        "colab": {
          "base_uri": "https://localhost:8080/"
        }
      },
      "source": [
        "df[\"price\"].describe()"
      ],
      "execution_count": 6,
      "outputs": [
        {
          "output_type": "execute_result",
          "data": {
            "text/plain": [
              "count    48895.000000\n",
              "mean       152.720687\n",
              "std        240.154170\n",
              "min          0.000000\n",
              "25%         69.000000\n",
              "50%        106.000000\n",
              "75%        175.000000\n",
              "max      10000.000000\n",
              "Name: price, dtype: float64"
            ]
          },
          "metadata": {
            "tags": []
          },
          "execution_count": 6
        }
      ]
    },
    {
      "cell_type": "code",
      "metadata": {
        "id": "nEdiT4DomzHP"
      },
      "source": [
        "#IQ"
      ],
      "execution_count": null,
      "outputs": []
    },
    {
      "cell_type": "code",
      "metadata": {
        "id": "hGz88-OO5ZPe",
        "outputId": "179b7b91-b477-4a0d-ff6c-1728e3e5928b",
        "colab": {
          "base_uri": "https://localhost:8080/",
          "height": 265
        }
      },
      "source": [
        "### We see a more Gaussian distribution here\n",
        "hist_price2=df[\"price\"][df[\"price\"]<400].hist()\n"
      ],
      "execution_count": 68,
      "outputs": [
        {
          "output_type": "display_data",
          "data": {
            "image/png": "[encoded data removed]",
            "text/plain": [
              "<Figure size 432x288 with 1 Axes>"
            ]
          },
          "metadata": {
            "tags": []
          }
        }
      ]
    },
    {
      "cell_type": "code",
      "metadata": {
        "id": "PzUF1qcN57TG"
      },
      "source": [
        "#We use 400 as threshold price \n",
        "df=df[df[\"price\"]<400]"
      ],
      "execution_count": 69,
      "outputs": []
    },
    {
      "cell_type": "code",
      "metadata": {
        "id": "flTJxjUo1wm9",
        "outputId": "590c4aa6-6714-4a77-901d-1bec7439f457",
        "colab": {
          "base_uri": "https://localhost:8080/"
        }
      },
      "source": [
        "### Looking at the price column again\n",
        "df[\"price\"].describe()"
      ],
      "execution_count": 70,
      "outputs": [
        {
          "output_type": "execute_result",
          "data": {
            "text/plain": [
              "count    46907.000000\n",
              "mean       125.092843\n",
              "std         76.022504\n",
              "min          0.000000\n",
              "25%         66.000000\n",
              "50%        100.000000\n",
              "75%        165.000000\n",
              "max        399.000000\n",
              "Name: price, dtype: float64"
            ]
          },
          "metadata": {
            "tags": []
          },
          "execution_count": 70
        }
      ]
    },
    {
      "cell_type": "code",
      "metadata": {
        "id": "gdGrfODpjFEg",
        "outputId": "8d22bf08-e17f-4adb-b933-c5216182eb9e",
        "colab": {
          "base_uri": "https://localhost:8080/",
          "height": 235
        }
      },
      "source": [
        "### Lets see the average listing price by neighbourhood group\n",
        "ng_price=pd.DataFrame(df.groupby(\"neighbourhood_group\")[\"price\"].mean())\n",
        "ng_price= ng_price.reset_index()\n",
        "ng_price.set_index(\"neighbourhood_group\", inplace = True)\n",
        "ng_price"
      ],
      "execution_count": 86,
      "outputs": [
        {
          "output_type": "execute_result",
          "data": {
            "text/html": [
              "<div>\n",
              "<style scoped>\n",
              "    .dataframe tbody tr th:only-of-type {\n",
              "        vertical-align: middle;\n",
              "    }\n",
              "\n",
              "    .dataframe tbody tr th {\n",
              "        vertical-align: top;\n",
              "    }\n",
              "\n",
              "    .dataframe thead th {\n",
              "        text-align: right;\n",
              "    }\n",
              "</style>\n",
              "<table border=\"1\" class=\"dataframe\">\n",
              "  <thead>\n",
              "    <tr style=\"text-align: right;\">\n",
              "      <th></th>\n",
              "      <th>price</th>\n",
              "    </tr>\n",
              "    <tr>\n",
              "      <th>neighbourhood_group</th>\n",
              "      <th></th>\n",
              "    </tr>\n",
              "  </thead>\n",
              "  <tbody>\n",
              "    <tr>\n",
              "      <th>Bronx</th>\n",
              "      <td>79.256267</td>\n",
              "    </tr>\n",
              "    <tr>\n",
              "      <th>Brooklyn</th>\n",
              "      <td>108.806594</td>\n",
              "    </tr>\n",
              "    <tr>\n",
              "      <th>Manhattan</th>\n",
              "      <td>153.562274</td>\n",
              "    </tr>\n",
              "    <tr>\n",
              "      <th>Queens</th>\n",
              "      <td>90.680707</td>\n",
              "    </tr>\n",
              "    <tr>\n",
              "      <th>Staten Island</th>\n",
              "      <td>89.235616</td>\n",
              "    </tr>\n",
              "  </tbody>\n",
              "</table>\n",
              "</div>"
            ],
            "text/plain": [
              "                          price\n",
              "neighbourhood_group            \n",
              "Bronx                 79.256267\n",
              "Brooklyn             108.806594\n",
              "Manhattan            153.562274\n",
              "Queens                90.680707\n",
              "Staten Island         89.235616"
            ]
          },
          "metadata": {
            "tags": []
          },
          "execution_count": 86
        }
      ]
    },
    {
      "cell_type": "code",
      "metadata": {
        "id": "m-ub_kj2-QKU"
      },
      "source": [
        ""
      ],
      "execution_count": null,
      "outputs": []
    },
    {
      "cell_type": "code",
      "metadata": {
        "id": "L3sn-40S1gVc"
      },
      "source": [
        "#sns.set(font_scale=1.5)\n",
        "#sns.catplot(\"neighbourhood_group\", data=ng_price, kind=\"price\", height=8)"
      ],
      "execution_count": 88,
      "outputs": []
    },
    {
      "cell_type": "code",
      "metadata": {
        "id": "IoZPS-hV84LF"
      },
      "source": [
        ""
      ],
      "execution_count": null,
      "outputs": []
    }
  ]
}